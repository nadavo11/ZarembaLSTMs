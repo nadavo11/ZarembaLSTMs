{
 "cells": [
  {
   "cell_type": "markdown",
   "metadata": {
    "collapsed": false
   },
   "source": [
    "# LSTM for text prediction"
   ]
  },
  {
   "cell_type": "markdown",
   "metadata": {
    "collapsed": false
   },
   "source": [
    "## Importing the libraries"
   ]
  },
  {
   "cell_type": "code",
   "execution_count": null,
   "metadata": {
    "ExecuteTime": {
     "end_time": "2024-07-08T21:12:47.073998Z",
     "start_time": "2024-07-08T21:12:46.447026Z"
    },
    "collapsed": false
   },
   "outputs": [],
   "source": [
    "import numpy as np\n",
    "import matplotlib.pyplot as plt\n",
    "import torch\n",
    "import torch.nn as nn\n",
    "from torch.utils.data import Dataset, DataLoader\n",
    "import os\n",
    "from datetime import datetime\n",
    "from torch.utils.tensorboard import SummaryWriter\n",
    "# from torchtext.data.utils import get_tokenizer\n",
    "# from torchtext.vocab import build_vocab_from_iterator\n",
    "# import torchtext.transforms as T\n"
   ]
  },
  {
   "cell_type": "code",
   "execution_count": null,
   "metadata": {},
   "outputs": [],
   "source": [
    "#hyper parameters\n",
    "batch_size = 20\n",
    "seq_length = 32\n",
    "lr = 1e-4\n",
    "criterion = nn.CrossEntropyLoss()\n",
    "epochs = 35\n",
    "hidden_size =200\n",
    "input_size = 200\n",
    "num_layers =  2"
   ]
  },
  {
   "cell_type": "markdown",
   "metadata": {
    "collapsed": false
   },
   "source": [
    "# Tensorboard\n",
    "tensorboard is a visualization tool that can be used to visualize the training process of a deep learning model. The torch.utils.tensorboard.SummaryWriter class is used to write the logs to the tensorboard. The SummaryWriter class takes the log directory as input. The logs are written to the log directory in the form of event files. The event files can be visualized using the tensorboard web interface."
   ]
  },
  {
   "cell_type": "code",
   "execution_count": null,
   "metadata": {
    "ExecuteTime": {
     "end_time": "2024-07-06T23:56:48.200949Z",
     "start_time": "2024-07-06T23:56:48.039783Z"
    },
    "collapsed": false
   },
   "outputs": [],
   "source": [
    "#%tensorboard --logdir runs\n",
    "log_dir = os.path.join(os.getcwd(), \"runs\")\n",
    "os.makedirs(log_dir, exist_ok=True)\n",
    "\n"
   ]
  },
  {
   "cell_type": "markdown",
   "metadata": {
    "collapsed": false
   },
   "source": [
    "# Data Preprocessing\n",
    "we will train the LSTM model on the Penn  Treebank dataset. The Penn Treebank dataset is a dataset of cleaned and annotated English text. The data is split into training, validation, and testing sets."
   ]
  },
  {
   "cell_type": "markdown",
   "metadata": {
    "collapsed": false
   },
   "source": [
    "## load train, test, and validation data"
   ]
  },
  {
   "cell_type": "code",
   "execution_count": null,
   "metadata": {
    "ExecuteTime": {
     "end_time": "2024-07-08T23:50:41.678080Z",
     "start_time": "2024-07-08T23:50:41.577259Z"
    },
    "collapsed": false
   },
   "outputs": [],
   "source": [
    "train_data_raw = open('data/ptb.train.txt', 'r').read()\n",
    "test_data_raw = open('data/ptb.test.txt', 'r').read()\n",
    "valid_data_raw = open('data/ptb.valid.txt', 'r').read()\n",
    "data =  train_data_raw + ' ' + test_data_raw + ' ' + valid_data_raw\n",
    "\n"
   ]
  },
  {
   "cell_type": "markdown",
   "metadata": {
    "collapsed": false
   },
   "source": [
    "### sample from the data\n",
    " let's see what are the most common words in the data"
   ]
  },
  {
   "cell_type": "code",
   "execution_count": null,
   "metadata": {
    "ExecuteTime": {
     "end_time": "2024-07-08T23:50:44.816440Z",
     "start_time": "2024-07-08T23:50:44.550711Z"
    },
    "collapsed": false
   },
   "outputs": [],
   "source": [
    "from collections import Counter\n",
    "\n",
    "leaderboard = Counter(data.split()).most_common(10)\n",
    "i = 0\n",
    "for word, freq in leaderboard:\n",
    "    i+=1\n",
    "    print(f'{i}.{word}: appears {freq} times')"
   ]
  },
  {
   "cell_type": "markdown",
   "metadata": {
    "collapsed": false
   },
   "source": [
    "## Tokenizing the data"
   ]
  },
  {
   "cell_type": "code",
   "execution_count": null,
   "metadata": {
    "ExecuteTime": {
     "end_time": "2024-07-08T23:50:47.487459Z",
     "start_time": "2024-07-08T23:50:47.412956Z"
    },
    "collapsed": false
   },
   "outputs": [],
   "source": [
    "# Tokenize the data\n",
    "def tokenize(text):\n",
    "    return text.replace('\\n', '<eos>').split()\n"
   ]
  },
  {
   "cell_type": "markdown",
   "metadata": {
    "collapsed": false
   },
   "source": [
    "### create a vocabulary of words\n"
   ]
  },
  {
   "cell_type": "code",
   "execution_count": null,
   "metadata": {
    "ExecuteTime": {
     "end_time": "2024-07-08T23:53:54.879571Z",
     "start_time": "2024-07-08T23:53:54.571693Z"
    },
    "collapsed": false
   },
   "outputs": [],
   "source": [
    "def build_vocab(text):\n",
    "    tokens = tokenize(text)\n",
    "    counter = Counter(tokens)\n",
    "    vocab = sorted(counter, key=counter.get, reverse=True)\n",
    "    vocab = {word: i for i, word in enumerate(vocab, 1)}\n",
    "\n",
    "    return vocab\n",
    "\n",
    "\n",
    "vocab = build_vocab(data)\n",
    "vocab_size = len(vocab) + 1\n",
    "\n",
    "\n",
    "\n",
    "print(f'vocab size: {vocab_size}')"
   ]
  },
  {
   "cell_type": "code",
   "execution_count": null,
   "metadata": {},
   "outputs": [],
   "source": [
    "vocab"
   ]
  },
  {
   "cell_type": "markdown",
   "metadata": {
    "collapsed": false
   },
   "source": [
    "### decode and encode the words\n",
    " let's create a function that converts a word to token index and vice versa: the function stoi converts a word to a token index and the function itos converts a token index to a word"
   ]
  },
  {
   "cell_type": "code",
   "execution_count": null,
   "metadata": {
    "ExecuteTime": {
     "end_time": "2024-07-08T23:53:58.419979Z",
     "start_time": "2024-07-08T23:53:58.388138Z"
    },
    "collapsed": false
   },
   "outputs": [],
   "source": [
    "\n",
    "# decode the token i to a word S\n",
    "def itos(i):\n",
    "    return list(vocab.keys())[i-1]\n",
    "\n",
    "# encode the word S to a token index i\n",
    "def stoi(s):\n",
    "    return vocab[s] if s in vocab else vocab['<unk>']"
   ]
  },
  {
   "cell_type": "code",
   "execution_count": null,
   "metadata": {
    "ExecuteTime": {
     "end_time": "2024-07-08T23:54:18.836911Z",
     "start_time": "2024-07-08T23:54:18.610840Z"
    },
    "collapsed": false
   },
   "outputs": [],
   "source": [
    "print(vocab)\n",
    "\n",
    "print(stoi('year'))\n",
    "print(itos(42))\n",
    "\n"
   ]
  },
  {
   "cell_type": "markdown",
   "metadata": {
    "collapsed": false
   },
   "source": []
  },
  {
   "cell_type": "code",
   "execution_count": null,
   "metadata": {
    "ExecuteTime": {
     "end_time": "2024-07-09T00:01:11.228238Z",
     "start_time": "2024-07-09T00:01:10.941467Z"
    },
    "collapsed": false
   },
   "outputs": [],
   "source": [
    "train_data = [stoi(word) for word in train_data_raw.split()]\n",
    "valid_data = [stoi(word) for word in valid_data_raw.split()]\n",
    "test_data = [stoi(word) for word in test_data_raw.split()]"
   ]
  },
  {
   "cell_type": "code",
   "execution_count": null,
   "metadata": {},
   "outputs": [],
   "source": [
    "train_data"
   ]
  },
  {
   "cell_type": "markdown",
   "metadata": {
    "collapsed": false
   },
   "source": [
    "## build a dataset and dataloader"
   ]
  },
  {
   "cell_type": "code",
   "execution_count": null,
   "metadata": {
    "ExecuteTime": {
     "end_time": "2024-07-09T00:01:15.199931Z",
     "start_time": "2024-07-09T00:01:15.105846Z"
    },
    "collapsed": false
   },
   "outputs": [],
   "source": [
    "class PTBDataset(Dataset):\n",
    "    def __init__(self, data, seq_length):\n",
    "        self.data = data\n",
    "        self.seq_length = seq_length\n",
    "\n",
    "    def __len__(self):\n",
    "        return len(self.data) // self.seq_length\n",
    "\n",
    "    def __getitem__(self, idx):\n",
    "        x = self.data[idx * self.seq_length: (idx + 1) * self.seq_length]\n",
    "        y = self.data[idx * self.seq_length + 1: (idx + 1) * self.seq_length + 1]\n",
    "        return torch.tensor(x, dtype=torch.long), torch.tensor(y, dtype=torch.long)\n",
    "\n",
    "\n",
    "# Create datasets\n",
    "train_dataset = PTBDataset(train_data, seq_length)\n",
    "valid_dataset = PTBDataset(valid_data, seq_length)\n",
    "test_dataset = PTBDataset(test_data, seq_length)\n",
    "\n",
    "# Create dataloaders\n",
    "train_loader = DataLoader(train_dataset, batch_size=batch_size, shuffle=True, drop_last=True)\n",
    "valid_loader = DataLoader(valid_dataset, batch_size=batch_size, shuffle=False, drop_last=True)\n",
    "test_loader = DataLoader(test_dataset, batch_size=batch_size, shuffle=False, drop_last=True)\n",
    "\n",
    "test_data_iter = iter(test_loader)\n",
    "train_data_iter = iter(train_loader)\n",
    "valid_data_iter = iter(valid_loader)"
   ]
  },
  {
   "cell_type": "markdown",
   "metadata": {
    "collapsed": false
   },
   "source": [
    "### display a batch of data\n",
    "note that y is exactly x shifted by one position. meaning that $y_i = x_{i+1} = LSTM(x[0:i-1])$"
   ]
  },
  {
   "cell_type": "code",
   "execution_count": null,
   "metadata": {
    "ExecuteTime": {
     "end_time": "2024-07-09T00:01:17.760517Z",
     "start_time": "2024-07-09T00:01:17.718654Z"
    },
    "collapsed": false
   },
   "outputs": [],
   "source": [
    "x, y = next(train_data_iter)\n",
    "print(f'x: {x.size()}, y: {y.size()}')\n",
    "print(f'x:{\" \".join([itos(i) for i in x[0]])}')\n",
    "print(f'y:{\" \".join([itos(i) for i in y[0]])}')"
   ]
  },
  {
   "cell_type": "markdown",
   "metadata": {
    "collapsed": false
   },
   "source": [
    "# LSTM/GRU Cell definition\n"
   ]
  },
  {
   "cell_type": "code",
   "execution_count": null,
   "metadata": {},
   "outputs": [],
   "source": [
    "class GRU_Cell(nn.Module):\n",
    "    def __init__(self, input_size, hidden_size, dropout ):\n",
    "        super().__init__()\n",
    "        self.input_size = input_size\n",
    "        self.hidden_size = hidden_size\n",
    "        self.reset_gate = nn.Sequential(nn.Linear(input_size + hidden_size, hidden_size),nn.Sigmoid() )\n",
    "        self.update_gate = nn.Sequential(nn.Linear(input_size + hidden_size, hidden_size),nn.Sigmoid() )\n",
    "        self.new_gate = nn.Sequential(nn.Linear(input_size + hidden_size, hidden_size), nn.Tanh())\n",
    "        self.dropout = nn.Dropout(dropout)\n",
    "\n",
    "\n",
    "\n",
    "    def gru_step(self, x, h_prev):\n",
    "        x_h = torch.cat((x,h_prev),dim=1)\n",
    "        r = self.reset_gate(x_h)\n",
    "        z = self.g_gate(x_h)\n",
    "        x_rh = torch.cat((x, r * h_prev), dim=1)\n",
    "        n = torch.tanh(x_rh) #Right??\n",
    "        h = (1-z) * n + z*h_prev\n",
    "        return h\n",
    "\n",
    "    #What exactly happen here? Do In still need this for loop?\n",
    "    # Takes input tensor x with dimensions: [T, B, X].\n",
    "    def forward(self, x, states):\n",
    "        h = states\n",
    "        outputs = []\n",
    "        inputs = x.unbind(1)\n",
    "        for x_t in inputs:\n",
    "            print(f\"GRU Cell h size:{h.size()}, x size: {x_t.size()} \")\n",
    "            h = self.gru_step(x_t, h)\n",
    "            h = self.dropout(h) \n",
    "            outputs.append(h)\n",
    "        return torch.stack(outputs)"
   ]
  },
  {
   "cell_type": "code",
   "execution_count": null,
   "metadata": {
    "ExecuteTime": {
     "end_time": "2024-07-09T12:49:37.939021Z",
     "start_time": "2024-07-09T12:49:37.906020Z"
    },
    "collapsed": false
   },
   "outputs": [],
   "source": [
    "import torch\n",
    "import torch.nn as nn\n",
    "import torch.nn.functional as F\n",
    "\n",
    "class LSTM_Cell(nn.Module):\n",
    "    def __init__(self,\n",
    "                 input_size,\n",
    "                 hidden_size=200,\n",
    "                #  num_layers=1,\n",
    "                 dropout=0,\n",
    "                 ):\n",
    "        \"\"\"\n",
    "        :param input_size:\n",
    "        :param hidden_size:\n",
    "        :param num_layers:\n",
    "        :param num_classes:\n",
    "        \"\"\"\n",
    "        super(LSTM_Cell, self).__init__()\n",
    "\n",
    "        # size of the hidden state\n",
    "        self.hidden_size = hidden_size\n",
    "        self.dropout = nn.Dropout(dropout)\n",
    "\n",
    "\n",
    "        # LSTM gates\n",
    "        # Forget gate\n",
    "        self.f_gate = nn.Sequential(\n",
    "            nn.Linear(input_size + hidden_size, hidden_size),\n",
    "            nn.Sigmoid() )\n",
    "\n",
    "        # Candidate gate(input modulation in the original paper)\n",
    "        self.g_gate = nn.Sequential(\n",
    "            nn.Linear(input_size + hidden_size, hidden_size),\n",
    "            nn.Tanh())\n",
    "\n",
    "        # Input gate\n",
    "        self.i_gate = nn.Sequential(\n",
    "            nn.Linear(input_size + hidden_size, hidden_size),\n",
    "            nn.Sigmoid())\n",
    "\n",
    "        # Output gate\n",
    "        self.o_gate = nn.Sequential(\n",
    "            nn.Linear(input_size + hidden_size,hidden_size),\n",
    "            nn.Sigmoid())\n",
    "        self.tanh = nn.Tanh()\n",
    "\n",
    "    def lstm_step(self,x,h,c):\n",
    "        \"\"\"\n",
    "        :param x: input tensor\n",
    "        :param h: previous hidden state\n",
    "        :param c: previous cell state\n",
    "        :return: (h,c) tuple of new cell state and new hidden state\n",
    "        \"\"\"\n",
    "        \n",
    "        # Concatenate input and hidden state\n",
    "        x_h = torch.cat((x,h),dim=1)\n",
    "\n",
    "        # Forget\n",
    "        f = self.f_gate(x_h)\n",
    "        g = self.g_gate(x_h)\n",
    "        i = self.i_gate(x_h)\n",
    "        o = self.o_gate(x_h)\n",
    "\n",
    "        # update c\n",
    "        c = c * f + (g*i)\n",
    "        # THEN, update h\n",
    "        h = self.tanh(c) * o\n",
    "\n",
    "        # apply dropout to the hidden\n",
    "        h = self.dropout(h)\n",
    "\n",
    "        return h,c\n",
    "    \n",
    "    def forward(self, x, states):\n",
    "        h, c = states\n",
    "        outputs = []\n",
    "        inputs = x.unbind(1)\n",
    "        \n",
    "        #Run on words in sequence length\n",
    "        for x_t in inputs:\n",
    "            h, c = self.lstm_step(x_t, h, c)\n",
    "            outputs.append(h)\n",
    "        output_seq_first = torch.stack(outputs) # shape is [seq, batch, embedd]\n",
    "        output_batch_first= torch.transpose(output_seq_first, 0, 1) #shape is [batch, seq, embedd]\n",
    "        return output_batch_first\n",
    "\n",
    "\n"
   ]
  },
  {
   "cell_type": "code",
   "execution_count": null,
   "metadata": {},
   "outputs": [],
   "source": [
    "class Network(nn.Module):\n",
    "    def __init__(self,\n",
    "                 input_size=input_size,\n",
    "                 hidden_size=hidden_size,\n",
    "                 num_layers=num_layers,\n",
    "                 batch_size=batch_size,\n",
    "                 vocab_size=vocab_size,\n",
    "                 dropout=0, cell_type = \"lstm\"):\n",
    "        \"\"\"\n",
    "        :param input_size:\n",
    "        :param hidden_size:\n",
    "        :param num_layers:\n",
    "        \"\"\"\n",
    "\n",
    "        super(Network, self).__init__()\n",
    "        self.embedding = nn.Embedding(vocab_size, input_size)\n",
    "        self.cell_type = cell_type\n",
    "        self.cell = LSTM_Cell if self.cell_type == \"lstm\" else GRU_Cell\n",
    "        self.num_layers = num_layers\n",
    "        self.batch_size = batch_size\n",
    "        # implementing multilayer network\n",
    "        self.rnns = [self.cell(input_size,hidden_size,dropout=dropout) for i in range(self.num_layers)]\n",
    "        self.hidden_size = hidden_size\n",
    "        self.fc = nn.Linear(hidden_size, vocab_size)\n",
    "\n",
    "\n",
    "    def forward_step(self,x):\n",
    "         if self.cell_type == \"lstm\":\n",
    "            return self.forward_lstm(x)\n",
    "         else:\n",
    "            return self.forward_gru(x)\n",
    "\n",
    "\n",
    "    def forward(self,x):\n",
    "            \"\"\"\n",
    "            :param x: input tensor\n",
    "            :return: (c,h) tuple of new cell state and new hidden state\n",
    "            \"\"\"\n",
    "            \n",
    "          #  h = [torch.zeros(batch_size,self.hidden_size)]\n",
    "            outputs = []\n",
    "            # store the initial hidden and cell states\n",
    "            # ht =torch.zeros(batch_size, self.hidden_size) # store the hidden states (output)\n",
    "            # c = torch.zeros(batch_size,self.hidden_size)\n",
    "\n",
    "            if (self.cell_type == 'lstm'):\n",
    "            #initial c, h for all LSTM Layers\n",
    "             states=[(torch.zeros(self.batch_size, self.hidden_size), torch.zeros(self.batch_size, self.hidden_size)) for layer in self.rnns]\n",
    "            elif (self.cell_type == 'gru'):\n",
    "            #intialize only h for GRU laters\n",
    "             states = [(torch.zeros(self.batch_size, self.hidden_size)) for layer in self.rnns]\n",
    "            else:\n",
    "             print(\"Cell Type : {:3f} is not Valid\".format(self.cell_type))\n",
    "\n",
    "            # store the hidden states (output)\n",
    "            x = self.embedding(x) #shape is [batch, seq, embedd]\n",
    "            for i, rnn in enumerate(self.rnns): #run over all layers\n",
    "              x = rnn(x, states[i]) #shape of X is [batch, embedd]  \n",
    "            output = self.fc(x) # size is batch, seq_length, vocab_size\n",
    "\n",
    "            return output\n",
    "    \n",
    "\n",
    "\n",
    "\n",
    "\n"
   ]
  },
  {
   "cell_type": "code",
   "execution_count": null,
   "metadata": {
    "ExecuteTime": {
     "end_time": "2024-07-08T22:51:09.048374Z",
     "start_time": "2024-07-08T22:51:08.900697Z"
    },
    "collapsed": false
   },
   "outputs": [],
   "source": [
    "\n",
    "tb_writer = SummaryWriter('runs/LSTM')\n",
    "lstm_cell = LSTM_Cell(32, 32, 1)\n",
    "# visualize the model in our tensorboard summary\n",
    "tb_writer.add_graph(lstm_cell, [torch.rand(32),torch.rand(32),torch.rand(32)])\n",
    "tb_writer.flush()"
   ]
  },
  {
   "cell_type": "code",
   "execution_count": null,
   "metadata": {
    "ExecuteTime": {
     "end_time": "2024-07-09T12:49:49.234735Z",
     "start_time": "2024-07-09T12:49:49.201150Z"
    },
    "collapsed": false
   },
   "outputs": [],
   "source": [
    "def evaluate(model,\n",
    "             val_loader,\n",
    "             criterion = nn.CrossEntropyLoss(),\n",
    "             seq_length = 32):\n",
    "    \"\"\"\n",
    "    evaluate the model on the validation set\n",
    "    :param model: model to evaluate\n",
    "    :param val_loader: validation dataset loader\n",
    "    :return: (accuracy, loss)\n",
    "    \"\"\"\n",
    "    model.eval()\n",
    "    running_loss = 0.0\n",
    "    running_acc = 0\n",
    "    total = 0\n",
    "    with torch.no_grad():\n",
    "        for i, data in enumerate(val_loader, 0):\n",
    "            inputs, targets = data\n",
    "\n",
    "            outputs = model(inputs)\n",
    "\n",
    "            outputs = outputs.view(-1, vocab_size)\n",
    "            targets = targets.view(-1)\n",
    "\n",
    "            loss = criterion(outputs, targets)\n",
    "\n",
    "            running_loss += loss.item()\n",
    "            _, predicted = torch.max(outputs, 1)\n",
    "            running_acc += (predicted == targets).sum().item()\n",
    "            total += targets.size(0)\n",
    "        avg_loss = running_loss/ len(val_loader)\n",
    "        perplexity = np.exp(avg_loss)\n",
    "    return perplexity, loss"
   ]
  },
  {
   "cell_type": "markdown",
   "metadata": {
    "collapsed": false
   },
   "source": [
    "# Example"
   ]
  },
  {
   "cell_type": "code",
   "execution_count": null,
   "metadata": {
    "ExecuteTime": {
     "end_time": "2024-07-09T00:02:28.254207Z",
     "start_time": "2024-07-09T00:02:13.404078Z"
    },
    "collapsed": false
   },
   "outputs": [],
   "source": [
    "x,y = next(train_data_iter)\n",
    "print(x.size())\n",
    "lstm = Network(200, 200, 1)\n",
    "\n",
    "evaluate(lstm, valid_loader)\n",
    "\n"
   ]
  },
  {
   "cell_type": "code",
   "execution_count": null,
   "metadata": {
    "ExecuteTime": {
     "end_time": "2024-07-09T19:24:12.315419Z",
     "start_time": "2024-07-09T19:24:12.292259Z"
    },
    "collapsed": false
   },
   "outputs": [],
   "source": [
    "\n",
    "\n",
    "def train(model,\n",
    "          criterion,\n",
    "          optimizer,\n",
    "          train_loader=train_loader,\n",
    "          val_loader=valid_loader,\n",
    "          epochs=35,\n",
    "          session = None,\n",
    "          start_epoch = 0,\n",
    "          ):\n",
    "    #create /models directory IF it does not exist\n",
    "    if not os.path.exists('./models'):\n",
    "        # Create the directory\n",
    "        print(\"Creating models directory\")\n",
    "        os.makedirs('./models')\n",
    "\n",
    "    # track with tensorboard\n",
    "    session = session or 'LSTM'+datetime.now().strftime('%m-%d-%H-%M')\n",
    "    #tb_writer = SummaryWriter(f'runs/{session}')\n",
    "    run_dir = f'{log_dir}/{session}'\n",
    "    print(run_dir)\n",
    "    tb_writer = SummaryWriter(run_dir)\n",
    "    tb_writer.flush()\n",
    "\n",
    "    val_loss_min = np.Inf\n",
    "    model.train()\n",
    "    for epoch in range(start_epoch, start_epoch + epochs):\n",
    "        print(\"Epoch : {:d} out of {:d}\".format(epoch, epochs))\n",
    "        running_loss = 0.0\n",
    "        running_corrects = 0\n",
    "        train_total = 0\n",
    "\n",
    "        # set the model to train mode\n",
    "        model.train(True)\n",
    "\n",
    "        for i, data in enumerate(train_loader, 0):\n",
    "            # get the input image and labels\n",
    "            inputs, labels = data\n",
    "            # start with zero gradients\n",
    "            optimizer.zero_grad()\n",
    "            # forward pass\n",
    "            outputs = model(inputs)\n",
    "\n",
    "            # reshape the outputs and labels (batch_size , seq_length, vocab_size)=>(batch_size * seq_length, vocab_size)\n",
    "            outputs = outputs.view(-1, vocab_size)\n",
    "            labels = labels.view(-1)\n",
    "\n",
    "            # calculate the loss\n",
    "            loss = criterion(outputs, labels)\n",
    "            loss.backward()\n",
    "            # update the weights\n",
    "            optimizer.step()\n",
    "            running_loss += loss.item()\n",
    "            _, preds = torch.max(outputs, 1)\n",
    "\n",
    "            running_corrects += (preds == labels).sum().item()\n",
    "            train_total += labels.size(0)\n",
    "\n",
    "            if i % 100 == 99:\n",
    "                # print gradient statistics\n",
    "                for name, param in model.named_parameters():\n",
    "                    tb_writer.add_histogram(name, param.grad, epoch * len(train_loader) +  i)\n",
    "                # loss of current batch\n",
    "                avg_train_loss = running_loss / 100\n",
    "                print(\"batch no = {:d} / {:d}, \".format(i, len(train_loader)) +\n",
    "                      \"Avrage train loss = {:.3f}, \".format(avg_train_loss) +\n",
    "                      \"lr = {:.3f}, \".format(lr) +\n",
    "                      \"cuda memory = {:.3f} GBs\".format(torch.cuda.max_memory_allocated()/1024/1024/1024))\n",
    "                tb_writer.add_scalar('training loss', avg_train_loss, epoch * len(train_loader) +  i)\n",
    "\n",
    "            \n",
    "                running_loss = 0.0\n",
    "        \"\"\"-----------------\n",
    "        per epoch evaluation\n",
    "        -----------------\"\"\"\n",
    "        # set the model to evaluation mode\n",
    "        model.eval()\n",
    "\n",
    "        # TODO convert accuracy to perplexity\n",
    "        # TODO: maybe move perplexity tensorboard log to happen more often\n",
    "        train_perplexity = np.exp(avg_train_loss)\n",
    "        # validation\n",
    "        val_perplexity, val_loss = evaluate(model, val_loader)\n",
    "\n",
    "        #val_accuracy = (val_preds == val_labels).sum().item() / len(val_loader)\n",
    "        tb_writer.add_scalars('train vs val loss', {'train': avg_train_loss, 'val': val_loss}, epoch)\n",
    "        tb_writer.add_scalars('train vs val perplexity', {'train': train_perplexity, 'val': val_perplexity}, epoch)\n",
    "        print(f'at epoch {epoch}: \\nvalidation loss: {val_loss} \\nValidation Preplexity: {val_perplexity}\\ntraining loss:   {avg_train_loss} ')\n",
    "        tb_writer.add_scalar('validation loss', val_loss, epoch)\n",
    "        if val_loss <= val_loss_min:\n",
    "            print('validation loss decreased({:.6f} -->{:.6f}). Saving Model ...'.format(val_loss_min, val_loss))\n",
    "            torch.save(model, f'./models/ {session}.pt')\n",
    "            val_loss_min = val_loss\n",
    "    print('Finished Training')"
   ]
  },
  {
   "cell_type": "markdown",
   "metadata": {
    "collapsed": false
   },
   "source": [
    "# Train the model\n",
    "LSTM no drop out"
   ]
  },
  {
   "cell_type": "code",
   "execution_count": null,
   "metadata": {
    "ExecuteTime": {
     "end_time": "2024-07-09T23:22:32.778364Z",
     "start_time": "2024-07-09T23:22:32.646530Z"
    },
    "collapsed": false
   },
   "outputs": [],
   "source": [
    "\n",
    "\n",
    "\n",
    "\n",
    "lstm = Network(input_size=input_size,\n",
    "            hidden_size=hidden_size,\n",
    "            num_layers=num_layers,\n",
    "            vocab_size=vocab_size,\n",
    "            dropout=0, cell_type = \"lstm\" )\n",
    "\n",
    "\n"
   ]
  },
  {
   "cell_type": "code",
   "execution_count": null,
   "metadata": {},
   "outputs": [],
   "source": [
    "optimizer = torch.optim.Adam(lstm.parameters(), lr=lr, weight_decay=1e-5)\n",
    "epochs =1\n",
    "\n",
    "train(lstm,\n",
    "      criterion = criterion,\n",
    "      optimizer=optimizer,\n",
    "      train_loader=train_loader,\n",
    "      val_loader=valid_loader,\n",
    "      session='vanilla LSTM',\n",
    "      start_epoch=1\n",
    "      )\n"
   ]
  },
  {
   "cell_type": "code",
   "execution_count": null,
   "metadata": {
    "collapsed": false,
    "pycharm": {
     "is_executing": true
    }
   },
   "outputs": [],
   "source": [
    "batch_size = 10\n",
    "lr = 1e-4\n",
    "# Create dataloaders\n",
    "train_loader = DataLoader(train_dataset, batch_size=batch_size, shuffle=True)\n",
    "valid_loader = DataLoader(valid_dataset, batch_size=batch_size, shuffle=False)\n",
    "test_loader = DataLoader(test_dataset, batch_size=batch_size, shuffle=False)\n",
    "\n",
    "\n",
    "\n",
    "lstm = LSTM(input_size=200,\n",
    "            hidden_size=200,\n",
    "            num_layers=1,\n",
    "            vocab_size=vocab_size,\n",
    "            dropout=0)\n",
    "\n",
    "optimizer = torch.optim.Adam(lstm.parameters(), lr=lr)\n",
    "train(lstm,\n",
    "      session='vanilla LSTM no l2 reg',\n",
    "      optimizer=optimizer,\n",
    "      val_loader=valid_loader,\n",
    "      train_loader=train_loader,\n",
    "      epochs=20\n",
    "      )"
   ]
  },
  {
   "cell_type": "markdown",
   "metadata": {
    "collapsed": false
   },
   "source": [
    "# Train with Dropout"
   ]
  },
  {
   "cell_type": "code",
   "execution_count": null,
   "metadata": {
    "ExecuteTime": {
     "end_time": "2024-07-09T19:14:32.369522Z",
     "start_time": "2024-07-09T16:42:29.909325Z"
    },
    "collapsed": false
   },
   "outputs": [],
   "source": [
    "\n",
    "optimizer = torch.optim.Adam(lstm.parameters(), lr=lr, weight_decay=1e-5)\n",
    "\n",
    "\n",
    "lstm = LSTM(input_size=200,\n",
    "            hidden_size=200,\n",
    "            num_layers=1,\n",
    "            vocab_size=vocab_size,\n",
    "            dropout=0.3)\n",
    "\n",
    "train(lstm,\n",
    "      criterion = criterion,\n",
    "      optimizer=optimizer,\n",
    "      train_loader=train_loader,\n",
    "      val_loader=valid_loader,\n",
    "      session='lstm_dropout',\n",
    "      start_epoch=10\n",
    "      )\n",
    "\n"
   ]
  },
  {
   "cell_type": "code",
   "execution_count": null,
   "metadata": {
    "ExecuteTime": {
     "end_time": "2024-07-09T21:19:33.227136Z",
     "start_time": "2024-07-09T19:24:39.612044Z"
    },
    "collapsed": false
   },
   "outputs": [],
   "source": []
  },
  {
   "cell_type": "code",
   "execution_count": null,
   "metadata": {
    "ExecuteTime": {
     "end_time": "2024-07-09T23:04:33.013735Z",
     "start_time": "2024-07-09T23:04:32.536475Z"
    },
    "collapsed": false
   },
   "outputs": [],
   "source": [
    "# load a random sample from the test data\n",
    "x, y = next(test_data_iter)\n",
    "\n",
    "out = lstm(x)[-1]\n",
    "print(\"====================================\")\n",
    "print(x.size())\n",
    "print(itos(42))\n",
    "print(itos(x[0][0].item()))\n",
    "print(\"input: \", \" \".join([itos(i) for i in x[0]]))\n",
    "print(\"output: \", \" \".join([itos(i) for i in out.argmax(dim=1)]))\n",
    "\n",
    "print(\"===========\")\n",
    "for i in range(5,15):\n",
    "\n",
    "    print( \" \".join([itos(i) for i in x[0]][:i]),itos(out.argmax(dim=1)[i].item()))"
   ]
  },
  {
   "cell_type": "code",
   "execution_count": null,
   "metadata": {
    "ExecuteTime": {
     "end_time": "2024-07-09T21:55:30.869207Z",
     "start_time": "2024-07-09T21:55:30.777550Z"
    },
    "collapsed": false
   },
   "outputs": [],
   "source": [
    "torch.save(lstm, 'models/lstm_dropout.pt')"
   ]
  },
  {
   "cell_type": "code",
   "execution_count": null,
   "metadata": {
    "collapsed": false
   },
   "outputs": [],
   "source": []
  }
 ],
 "metadata": {
  "kernelspec": {
   "display_name": "Python 3",
   "language": "python",
   "name": "python3"
  },
  "language_info": {
   "codemirror_mode": {
    "name": "ipython",
    "version": 3
   },
   "file_extension": ".py",
   "mimetype": "text/x-python",
   "name": "python",
   "nbconvert_exporter": "python",
   "pygments_lexer": "ipython3",
   "version": "3.11.9"
  }
 },
 "nbformat": 4,
 "nbformat_minor": 0
}
